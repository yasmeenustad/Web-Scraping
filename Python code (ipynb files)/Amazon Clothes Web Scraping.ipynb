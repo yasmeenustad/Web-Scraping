{
 "cells": [
  {
   "cell_type": "code",
   "execution_count": 1,
   "id": "466c4df3",
   "metadata": {},
   "outputs": [],
   "source": [
    "import pandas as pd\n",
    "from bs4 import BeautifulSoup\n",
    "import requests"
   ]
  },
  {
   "cell_type": "code",
   "execution_count": 33,
   "id": "3c764d99",
   "metadata": {},
   "outputs": [],
   "source": [
    "import matplotlib.pyplot as plt\n",
    "import seaborn as sns"
   ]
  },
  {
   "cell_type": "markdown",
   "id": "6751afdb",
   "metadata": {},
   "source": [
    "# Data scrapping:"
   ]
  },
  {
   "cell_type": "code",
   "execution_count": 2,
   "id": "6c70a617",
   "metadata": {},
   "outputs": [
    {
     "data": {
      "text/html": [
       "<div>\n",
       "<style scoped>\n",
       "    .dataframe tbody tr th:only-of-type {\n",
       "        vertical-align: middle;\n",
       "    }\n",
       "\n",
       "    .dataframe tbody tr th {\n",
       "        vertical-align: top;\n",
       "    }\n",
       "\n",
       "    .dataframe thead th {\n",
       "        text-align: right;\n",
       "    }\n",
       "</style>\n",
       "<table border=\"1\" class=\"dataframe\">\n",
       "  <thead>\n",
       "    <tr style=\"text-align: right;\">\n",
       "      <th></th>\n",
       "      <th>Name</th>\n",
       "      <th>Price</th>\n",
       "      <th>Rating</th>\n",
       "      <th>Link</th>\n",
       "    </tr>\n",
       "  </thead>\n",
       "  <tbody>\n",
       "    <tr>\n",
       "      <th>0</th>\n",
       "      <td>V-Neck Printed Dress Floral Rayon Sleevless Po...</td>\n",
       "      <td>999</td>\n",
       "      <td>None</td>\n",
       "      <td>https://www.amazon.in/sspa/click?ie=UTF8&amp;spc=M...</td>\n",
       "    </tr>\n",
       "    <tr>\n",
       "      <th>1</th>\n",
       "      <td>Western Dresses for Women | A-Line Knee-Length...</td>\n",
       "      <td>399</td>\n",
       "      <td>[3.9 out of 5 stars]</td>\n",
       "      <td>https://www.amazon.in/sspa/click?ie=UTF8&amp;spc=M...</td>\n",
       "    </tr>\n",
       "    <tr>\n",
       "      <th>2</th>\n",
       "      <td>Women's Rayon Full Sleeve A-Line Knee-Length W...</td>\n",
       "      <td>399</td>\n",
       "      <td>[3.6 out of 5 stars]</td>\n",
       "      <td>https://www.amazon.in/sspa/click?ie=UTF8&amp;spc=M...</td>\n",
       "    </tr>\n",
       "    <tr>\n",
       "      <th>3</th>\n",
       "      <td>Women's Shirt Maxi Dress</td>\n",
       "      <td>499</td>\n",
       "      <td>[3.9 out of 5 stars]</td>\n",
       "      <td>https://www.amazon.in/sspa/click?ie=UTF8&amp;spc=M...</td>\n",
       "    </tr>\n",
       "    <tr>\n",
       "      <th>4</th>\n",
       "      <td>Round Neck Printed Dresses</td>\n",
       "      <td>520</td>\n",
       "      <td>[4.0 out of 5 stars]</td>\n",
       "      <td>https://www.amazon.in/Harpa-Womens-A-Line-Dres...</td>\n",
       "    </tr>\n",
       "    <tr>\n",
       "      <th>...</th>\n",
       "      <td>...</td>\n",
       "      <td>...</td>\n",
       "      <td>...</td>\n",
       "      <td>...</td>\n",
       "    </tr>\n",
       "    <tr>\n",
       "      <th>1023</th>\n",
       "      <td>Women Knee Length Dress</td>\n",
       "      <td>399</td>\n",
       "      <td>[2.7 out of 5 stars]</td>\n",
       "      <td>https://www.amazon.in/sspa/click?ie=UTF8&amp;spc=M...</td>\n",
       "    </tr>\n",
       "    <tr>\n",
       "      <th>1024</th>\n",
       "      <td>dharti Enterprise Women’s Empire Maxi Dress</td>\n",
       "      <td>499</td>\n",
       "      <td>[5.0 out of 5 stars]</td>\n",
       "      <td>https://www.amazon.in/sspa/click?ie=UTF8&amp;spc=M...</td>\n",
       "    </tr>\n",
       "    <tr>\n",
       "      <th>1025</th>\n",
       "      <td>Designer Floral Print midi Dress</td>\n",
       "      <td>499</td>\n",
       "      <td>[3.4 out of 5 stars]</td>\n",
       "      <td>https://www.amazon.in/sspa/click?ie=UTF8&amp;spc=M...</td>\n",
       "    </tr>\n",
       "    <tr>\n",
       "      <th>1026</th>\n",
       "      <td>Designer printed fit and flare dress</td>\n",
       "      <td>599</td>\n",
       "      <td>None</td>\n",
       "      <td>https://www.amazon.in/sspa/click?ie=UTF8&amp;spc=M...</td>\n",
       "    </tr>\n",
       "    <tr>\n",
       "      <th>1027</th>\n",
       "      <td>Women's Short A-Line Long Puff Sleeves V-Neck ...</td>\n",
       "      <td>3,690</td>\n",
       "      <td>None</td>\n",
       "      <td>https://www.amazon.in/sspa/click?ie=UTF8&amp;spc=M...</td>\n",
       "    </tr>\n",
       "  </tbody>\n",
       "</table>\n",
       "<p>1028 rows × 4 columns</p>\n",
       "</div>"
      ],
      "text/plain": [
       "                                                   Name  Price  \\\n",
       "0     V-Neck Printed Dress Floral Rayon Sleevless Po...    999   \n",
       "1     Western Dresses for Women | A-Line Knee-Length...    399   \n",
       "2     Women's Rayon Full Sleeve A-Line Knee-Length W...    399   \n",
       "3                              Women's Shirt Maxi Dress    499   \n",
       "4                            Round Neck Printed Dresses    520   \n",
       "...                                                 ...    ...   \n",
       "1023                            Women Knee Length Dress    399   \n",
       "1024        dharti Enterprise Women’s Empire Maxi Dress    499   \n",
       "1025                   Designer Floral Print midi Dress    499   \n",
       "1026               Designer printed fit and flare dress    599   \n",
       "1027  Women's Short A-Line Long Puff Sleeves V-Neck ...  3,690   \n",
       "\n",
       "                    Rating                                               Link  \n",
       "0                     None  https://www.amazon.in/sspa/click?ie=UTF8&spc=M...  \n",
       "1     [3.9 out of 5 stars]  https://www.amazon.in/sspa/click?ie=UTF8&spc=M...  \n",
       "2     [3.6 out of 5 stars]  https://www.amazon.in/sspa/click?ie=UTF8&spc=M...  \n",
       "3     [3.9 out of 5 stars]  https://www.amazon.in/sspa/click?ie=UTF8&spc=M...  \n",
       "4     [4.0 out of 5 stars]  https://www.amazon.in/Harpa-Womens-A-Line-Dres...  \n",
       "...                    ...                                                ...  \n",
       "1023  [2.7 out of 5 stars]  https://www.amazon.in/sspa/click?ie=UTF8&spc=M...  \n",
       "1024  [5.0 out of 5 stars]  https://www.amazon.in/sspa/click?ie=UTF8&spc=M...  \n",
       "1025  [3.4 out of 5 stars]  https://www.amazon.in/sspa/click?ie=UTF8&spc=M...  \n",
       "1026                  None  https://www.amazon.in/sspa/click?ie=UTF8&spc=M...  \n",
       "1027                  None  https://www.amazon.in/sspa/click?ie=UTF8&spc=M...  \n",
       "\n",
       "[1028 rows x 4 columns]"
      ]
     },
     "execution_count": 2,
     "metadata": {},
     "output_type": "execute_result"
    }
   ],
   "source": [
    "Name = []\n",
    "Price = []\n",
    "Rating = []\n",
    "Link = []\n",
    "\n",
    "base_url = 'https://www.amazon.in'\n",
    "search_term = 'dresses for women'\n",
    "\n",
    "for i in range(1,61):\n",
    "\n",
    "    # URL of the Amazon search results page\n",
    "    url = f'{base_url}/s?page={i}&keywords={search_term}'\n",
    "    \n",
    "    # User-Agent header to mimic a web browser\n",
    "    headers = {'User-Agent': 'Mozilla/5.0 (Windows NT 10.0; Win64; x64) AppleWebKit/537.36 (KHTML, like Gecko) Chrome/112.0.0.0 Safari/537.36'}\n",
    "    \n",
    "    # Send a GET request to the URL\n",
    "    req = requests.get(url,headers = headers)\n",
    "\n",
    "    # Create a BeautifulSoup object from the response content\n",
    "    soup = BeautifulSoup(req.content, 'html.parser')\n",
    "\n",
    "    # Find all the product containers on the page\n",
    "    products = soup.find_all('div',class_='a-section a-spacing-base a-text-center')\n",
    "  \n",
    "    # Iterate over each product container and extract relevant information\n",
    "    for product in products:\n",
    "\n",
    "        # Extract the product Names\n",
    "        name = product.find('span',class_='a-size-base-plus a-color-base a-text-normal')\n",
    "        Name.append(name.text)\n",
    "\n",
    "\n",
    "        # Extract the product Price\n",
    "        price = product.find('span',class_='a-price-whole')\n",
    "        Price.append(price.text)\n",
    "\n",
    "        # Extract the product Rating\n",
    "        stars = product.find('span', class_='a-icon-alt')\n",
    "        Rating.append(stars)\n",
    "        \n",
    "        link = product.find('a',class_='a-link-normal s-no-outline')\n",
    "        Link.append(base_url +link['href'])\n",
    "        \n",
    "\n",
    "# Store all the extracted data       \n",
    "Data = {'Name':Name, 'Price':Price, 'Rating':Rating, 'Link':Link}        \n",
    "        \n",
    "\n",
    "# Create a DataFrame from the extracted data    \n",
    "df=pd.DataFrame(Data)\n",
    "df"
   ]
  },
  {
   "cell_type": "markdown",
   "id": "bbf23601",
   "metadata": {},
   "source": [
    "# Data Cleaning:"
   ]
  },
  {
   "cell_type": "code",
   "execution_count": 65,
   "id": "9e902a1a",
   "metadata": {},
   "outputs": [],
   "source": [
    "# 1. Checking for Duplicates:"
   ]
  },
  {
   "cell_type": "code",
   "execution_count": 5,
   "id": "ab65716e",
   "metadata": {},
   "outputs": [
    {
     "data": {
      "text/plain": [
       "0"
      ]
     },
     "execution_count": 5,
     "metadata": {},
     "output_type": "execute_result"
    }
   ],
   "source": [
    "len(df[df.duplicated()])"
   ]
  },
  {
   "cell_type": "markdown",
   "id": "670fd9a3",
   "metadata": {},
   "source": [
    "There are no any Duplicate values in the Dataset."
   ]
  },
  {
   "cell_type": "code",
   "execution_count": 6,
   "id": "07484a5b",
   "metadata": {},
   "outputs": [],
   "source": [
    "# 2. Dealing with Null values:"
   ]
  },
  {
   "cell_type": "code",
   "execution_count": 7,
   "id": "7bb5b3e7",
   "metadata": {},
   "outputs": [
    {
     "data": {
      "text/plain": [
       "Name        0\n",
       "Price       0\n",
       "Rating    239\n",
       "Link        0\n",
       "dtype: int64"
      ]
     },
     "execution_count": 7,
     "metadata": {},
     "output_type": "execute_result"
    }
   ],
   "source": [
    "df.isnull().sum()"
   ]
  },
  {
   "cell_type": "code",
   "execution_count": 10,
   "id": "ea43ce3a",
   "metadata": {},
   "outputs": [],
   "source": [
    "df1 = df.dropna()"
   ]
  },
  {
   "cell_type": "code",
   "execution_count": 11,
   "id": "9c1aa1fe",
   "metadata": {},
   "outputs": [
    {
     "data": {
      "text/plain": [
       "0.7675097276264592"
      ]
     },
     "execution_count": 11,
     "metadata": {},
     "output_type": "execute_result"
    }
   ],
   "source": [
    "len(df1)/len(df)"
   ]
  },
  {
   "cell_type": "markdown",
   "id": "afcb8d5f",
   "metadata": {},
   "source": [
    "After dropping the Null values, still getting 76% of data. So we can drop the Null values."
   ]
  },
  {
   "cell_type": "code",
   "execution_count": 12,
   "id": "1d76ed83",
   "metadata": {},
   "outputs": [],
   "source": [
    "df = df.dropna()"
   ]
  },
  {
   "cell_type": "code",
   "execution_count": 13,
   "id": "be5399b2",
   "metadata": {},
   "outputs": [
    {
     "data": {
      "text/html": [
       "<div>\n",
       "<style scoped>\n",
       "    .dataframe tbody tr th:only-of-type {\n",
       "        vertical-align: middle;\n",
       "    }\n",
       "\n",
       "    .dataframe tbody tr th {\n",
       "        vertical-align: top;\n",
       "    }\n",
       "\n",
       "    .dataframe thead th {\n",
       "        text-align: right;\n",
       "    }\n",
       "</style>\n",
       "<table border=\"1\" class=\"dataframe\">\n",
       "  <thead>\n",
       "    <tr style=\"text-align: right;\">\n",
       "      <th></th>\n",
       "      <th>Name</th>\n",
       "      <th>Price</th>\n",
       "      <th>Rating</th>\n",
       "      <th>Link</th>\n",
       "    </tr>\n",
       "  </thead>\n",
       "  <tbody>\n",
       "    <tr>\n",
       "      <th>1</th>\n",
       "      <td>Western Dresses for Women | A-Line Knee-Length...</td>\n",
       "      <td>399</td>\n",
       "      <td>[3.9 out of 5 stars]</td>\n",
       "      <td>https://www.amazon.in/sspa/click?ie=UTF8&amp;spc=M...</td>\n",
       "    </tr>\n",
       "    <tr>\n",
       "      <th>2</th>\n",
       "      <td>Women's Rayon Full Sleeve A-Line Knee-Length W...</td>\n",
       "      <td>399</td>\n",
       "      <td>[3.6 out of 5 stars]</td>\n",
       "      <td>https://www.amazon.in/sspa/click?ie=UTF8&amp;spc=M...</td>\n",
       "    </tr>\n",
       "    <tr>\n",
       "      <th>3</th>\n",
       "      <td>Women's Shirt Maxi Dress</td>\n",
       "      <td>499</td>\n",
       "      <td>[3.9 out of 5 stars]</td>\n",
       "      <td>https://www.amazon.in/sspa/click?ie=UTF8&amp;spc=M...</td>\n",
       "    </tr>\n",
       "    <tr>\n",
       "      <th>4</th>\n",
       "      <td>Round Neck Printed Dresses</td>\n",
       "      <td>520</td>\n",
       "      <td>[4.0 out of 5 stars]</td>\n",
       "      <td>https://www.amazon.in/Harpa-Womens-A-Line-Dres...</td>\n",
       "    </tr>\n",
       "    <tr>\n",
       "      <th>5</th>\n",
       "      <td>Women's Synthetic a-line Knee-Long Dress</td>\n",
       "      <td>708</td>\n",
       "      <td>[4.0 out of 5 stars]</td>\n",
       "      <td>https://www.amazon.in/Rare-Synthetic-a-line-Dr...</td>\n",
       "    </tr>\n",
       "    <tr>\n",
       "      <th>...</th>\n",
       "      <td>...</td>\n",
       "      <td>...</td>\n",
       "      <td>...</td>\n",
       "      <td>...</td>\n",
       "    </tr>\n",
       "    <tr>\n",
       "      <th>1017</th>\n",
       "      <td>Embroidered Sleeveless Denim Dress for Women/G...</td>\n",
       "      <td>1,499</td>\n",
       "      <td>[5.0 out of 5 stars]</td>\n",
       "      <td>https://www.amazon.in/sspa/click?ie=UTF8&amp;spc=M...</td>\n",
       "    </tr>\n",
       "    <tr>\n",
       "      <th>1019</th>\n",
       "      <td>Georgette Round Neck Half Sleeves Black Chikan...</td>\n",
       "      <td>1,049</td>\n",
       "      <td>[3.9 out of 5 stars]</td>\n",
       "      <td>https://www.amazon.in/sspa/click?ie=UTF8&amp;spc=M...</td>\n",
       "    </tr>\n",
       "    <tr>\n",
       "      <th>1023</th>\n",
       "      <td>Women Knee Length Dress</td>\n",
       "      <td>399</td>\n",
       "      <td>[2.7 out of 5 stars]</td>\n",
       "      <td>https://www.amazon.in/sspa/click?ie=UTF8&amp;spc=M...</td>\n",
       "    </tr>\n",
       "    <tr>\n",
       "      <th>1024</th>\n",
       "      <td>dharti Enterprise Women’s Empire Maxi Dress</td>\n",
       "      <td>499</td>\n",
       "      <td>[5.0 out of 5 stars]</td>\n",
       "      <td>https://www.amazon.in/sspa/click?ie=UTF8&amp;spc=M...</td>\n",
       "    </tr>\n",
       "    <tr>\n",
       "      <th>1025</th>\n",
       "      <td>Designer Floral Print midi Dress</td>\n",
       "      <td>499</td>\n",
       "      <td>[3.4 out of 5 stars]</td>\n",
       "      <td>https://www.amazon.in/sspa/click?ie=UTF8&amp;spc=M...</td>\n",
       "    </tr>\n",
       "  </tbody>\n",
       "</table>\n",
       "<p>789 rows × 4 columns</p>\n",
       "</div>"
      ],
      "text/plain": [
       "                                                   Name  Price  \\\n",
       "1     Western Dresses for Women | A-Line Knee-Length...    399   \n",
       "2     Women's Rayon Full Sleeve A-Line Knee-Length W...    399   \n",
       "3                              Women's Shirt Maxi Dress    499   \n",
       "4                            Round Neck Printed Dresses    520   \n",
       "5              Women's Synthetic a-line Knee-Long Dress    708   \n",
       "...                                                 ...    ...   \n",
       "1017  Embroidered Sleeveless Denim Dress for Women/G...  1,499   \n",
       "1019  Georgette Round Neck Half Sleeves Black Chikan...  1,049   \n",
       "1023                            Women Knee Length Dress    399   \n",
       "1024        dharti Enterprise Women’s Empire Maxi Dress    499   \n",
       "1025                   Designer Floral Print midi Dress    499   \n",
       "\n",
       "                    Rating                                               Link  \n",
       "1     [3.9 out of 5 stars]  https://www.amazon.in/sspa/click?ie=UTF8&spc=M...  \n",
       "2     [3.6 out of 5 stars]  https://www.amazon.in/sspa/click?ie=UTF8&spc=M...  \n",
       "3     [3.9 out of 5 stars]  https://www.amazon.in/sspa/click?ie=UTF8&spc=M...  \n",
       "4     [4.0 out of 5 stars]  https://www.amazon.in/Harpa-Womens-A-Line-Dres...  \n",
       "5     [4.0 out of 5 stars]  https://www.amazon.in/Rare-Synthetic-a-line-Dr...  \n",
       "...                    ...                                                ...  \n",
       "1017  [5.0 out of 5 stars]  https://www.amazon.in/sspa/click?ie=UTF8&spc=M...  \n",
       "1019  [3.9 out of 5 stars]  https://www.amazon.in/sspa/click?ie=UTF8&spc=M...  \n",
       "1023  [2.7 out of 5 stars]  https://www.amazon.in/sspa/click?ie=UTF8&spc=M...  \n",
       "1024  [5.0 out of 5 stars]  https://www.amazon.in/sspa/click?ie=UTF8&spc=M...  \n",
       "1025  [3.4 out of 5 stars]  https://www.amazon.in/sspa/click?ie=UTF8&spc=M...  \n",
       "\n",
       "[789 rows x 4 columns]"
      ]
     },
     "execution_count": 13,
     "metadata": {},
     "output_type": "execute_result"
    }
   ],
   "source": [
    "df"
   ]
  },
  {
   "cell_type": "code",
   "execution_count": 14,
   "id": "73a92e6c",
   "metadata": {},
   "outputs": [],
   "source": [
    "# Checking for the Data types:"
   ]
  },
  {
   "cell_type": "code",
   "execution_count": 15,
   "id": "8d79c6b8",
   "metadata": {},
   "outputs": [
    {
     "data": {
      "text/plain": [
       "Name      object\n",
       "Price     object\n",
       "Rating    object\n",
       "Link      object\n",
       "dtype: object"
      ]
     },
     "execution_count": 15,
     "metadata": {},
     "output_type": "execute_result"
    }
   ],
   "source": [
    "df.dtypes"
   ]
  },
  {
   "cell_type": "markdown",
   "id": "6ae5af21",
   "metadata": {},
   "source": [
    "Here we can see the data types of all column are Object, but data types of Price and Rating columns should not be object, it should be \"Integer and Float\". "
   ]
  },
  {
   "cell_type": "markdown",
   "id": "16c6c94c",
   "metadata": {},
   "source": [
    "Changing the data types of Price and Rating columns:"
   ]
  },
  {
   "cell_type": "code",
   "execution_count": 18,
   "id": "f3b45b33",
   "metadata": {},
   "outputs": [
    {
     "name": "stderr",
     "output_type": "stream",
     "text": [
      "C:\\Users\\dell6\\AppData\\Local\\Temp\\ipykernel_2028\\2916479803.py:1: SettingWithCopyWarning: \n",
      "A value is trying to be set on a copy of a slice from a DataFrame.\n",
      "Try using .loc[row_indexer,col_indexer] = value instead\n",
      "\n",
      "See the caveats in the documentation: https://pandas.pydata.org/pandas-docs/stable/user_guide/indexing.html#returning-a-view-versus-a-copy\n",
      "  df['Price']=df['Price'].str.replace(',','')\n"
     ]
    }
   ],
   "source": [
    "df['Price']=df['Price'].str.replace(',','')"
   ]
  },
  {
   "cell_type": "code",
   "execution_count": 26,
   "id": "06f40180",
   "metadata": {},
   "outputs": [
    {
     "name": "stderr",
     "output_type": "stream",
     "text": [
      "C:\\Users\\dell6\\AppData\\Local\\Temp\\ipykernel_2028\\3318716433.py:6: SettingWithCopyWarning: \n",
      "A value is trying to be set on a copy of a slice from a DataFrame.\n",
      "Try using .loc[row_indexer,col_indexer] = value instead\n",
      "\n",
      "See the caveats in the documentation: https://pandas.pydata.org/pandas-docs/stable/user_guide/indexing.html#returning-a-view-versus-a-copy\n",
      "  df['Rating']= Rating\n"
     ]
    }
   ],
   "source": [
    "Rating = []\n",
    "for i in df['Rating']:\n",
    "    i =(i.text).split(' ')[0]\n",
    "    Rating.append(i)\n",
    "    \n",
    "df['Rating']= Rating"
   ]
  },
  {
   "cell_type": "code",
   "execution_count": 27,
   "id": "7d581978",
   "metadata": {},
   "outputs": [
    {
     "data": {
      "text/html": [
       "<div>\n",
       "<style scoped>\n",
       "    .dataframe tbody tr th:only-of-type {\n",
       "        vertical-align: middle;\n",
       "    }\n",
       "\n",
       "    .dataframe tbody tr th {\n",
       "        vertical-align: top;\n",
       "    }\n",
       "\n",
       "    .dataframe thead th {\n",
       "        text-align: right;\n",
       "    }\n",
       "</style>\n",
       "<table border=\"1\" class=\"dataframe\">\n",
       "  <thead>\n",
       "    <tr style=\"text-align: right;\">\n",
       "      <th></th>\n",
       "      <th>Name</th>\n",
       "      <th>Price</th>\n",
       "      <th>Rating</th>\n",
       "      <th>Link</th>\n",
       "    </tr>\n",
       "  </thead>\n",
       "  <tbody>\n",
       "    <tr>\n",
       "      <th>1</th>\n",
       "      <td>Western Dresses for Women | A-Line Knee-Length...</td>\n",
       "      <td>399</td>\n",
       "      <td>3.9</td>\n",
       "      <td>https://www.amazon.in/sspa/click?ie=UTF8&amp;spc=M...</td>\n",
       "    </tr>\n",
       "    <tr>\n",
       "      <th>2</th>\n",
       "      <td>Women's Rayon Full Sleeve A-Line Knee-Length W...</td>\n",
       "      <td>399</td>\n",
       "      <td>3.6</td>\n",
       "      <td>https://www.amazon.in/sspa/click?ie=UTF8&amp;spc=M...</td>\n",
       "    </tr>\n",
       "    <tr>\n",
       "      <th>3</th>\n",
       "      <td>Women's Shirt Maxi Dress</td>\n",
       "      <td>499</td>\n",
       "      <td>3.9</td>\n",
       "      <td>https://www.amazon.in/sspa/click?ie=UTF8&amp;spc=M...</td>\n",
       "    </tr>\n",
       "    <tr>\n",
       "      <th>4</th>\n",
       "      <td>Round Neck Printed Dresses</td>\n",
       "      <td>520</td>\n",
       "      <td>4.0</td>\n",
       "      <td>https://www.amazon.in/Harpa-Womens-A-Line-Dres...</td>\n",
       "    </tr>\n",
       "    <tr>\n",
       "      <th>5</th>\n",
       "      <td>Women's Synthetic a-line Knee-Long Dress</td>\n",
       "      <td>708</td>\n",
       "      <td>4.0</td>\n",
       "      <td>https://www.amazon.in/Rare-Synthetic-a-line-Dr...</td>\n",
       "    </tr>\n",
       "  </tbody>\n",
       "</table>\n",
       "</div>"
      ],
      "text/plain": [
       "                                                Name Price Rating  \\\n",
       "1  Western Dresses for Women | A-Line Knee-Length...   399    3.9   \n",
       "2  Women's Rayon Full Sleeve A-Line Knee-Length W...   399    3.6   \n",
       "3                           Women's Shirt Maxi Dress   499    3.9   \n",
       "4                         Round Neck Printed Dresses   520    4.0   \n",
       "5           Women's Synthetic a-line Knee-Long Dress   708    4.0   \n",
       "\n",
       "                                                Link  \n",
       "1  https://www.amazon.in/sspa/click?ie=UTF8&spc=M...  \n",
       "2  https://www.amazon.in/sspa/click?ie=UTF8&spc=M...  \n",
       "3  https://www.amazon.in/sspa/click?ie=UTF8&spc=M...  \n",
       "4  https://www.amazon.in/Harpa-Womens-A-Line-Dres...  \n",
       "5  https://www.amazon.in/Rare-Synthetic-a-line-Dr...  "
      ]
     },
     "execution_count": 27,
     "metadata": {},
     "output_type": "execute_result"
    }
   ],
   "source": [
    "df.head()"
   ]
  },
  {
   "cell_type": "code",
   "execution_count": 31,
   "id": "cfd2ad8b",
   "metadata": {},
   "outputs": [
    {
     "name": "stderr",
     "output_type": "stream",
     "text": [
      "C:\\Users\\dell6\\AppData\\Local\\Temp\\ipykernel_2028\\3410540024.py:1: SettingWithCopyWarning: \n",
      "A value is trying to be set on a copy of a slice from a DataFrame.\n",
      "Try using .loc[row_indexer,col_indexer] = value instead\n",
      "\n",
      "See the caveats in the documentation: https://pandas.pydata.org/pandas-docs/stable/user_guide/indexing.html#returning-a-view-versus-a-copy\n",
      "  df['Price']=df['Price'].astype(int)\n",
      "C:\\Users\\dell6\\AppData\\Local\\Temp\\ipykernel_2028\\3410540024.py:2: SettingWithCopyWarning: \n",
      "A value is trying to be set on a copy of a slice from a DataFrame.\n",
      "Try using .loc[row_indexer,col_indexer] = value instead\n",
      "\n",
      "See the caveats in the documentation: https://pandas.pydata.org/pandas-docs/stable/user_guide/indexing.html#returning-a-view-versus-a-copy\n",
      "  df['Rating']=df['Rating'].astype(float)\n"
     ]
    }
   ],
   "source": [
    "df['Price']=df['Price'].astype(int)\n",
    "df['Rating']=df['Rating'].astype(float)"
   ]
  },
  {
   "cell_type": "code",
   "execution_count": 32,
   "id": "4ba8f3e0",
   "metadata": {},
   "outputs": [
    {
     "data": {
      "text/plain": [
       "Name       object\n",
       "Price       int32\n",
       "Rating    float64\n",
       "Link       object\n",
       "dtype: object"
      ]
     },
     "execution_count": 32,
     "metadata": {},
     "output_type": "execute_result"
    }
   ],
   "source": [
    "df.dtypes"
   ]
  },
  {
   "cell_type": "markdown",
   "id": "cfdf17a6",
   "metadata": {},
   "source": [
    "# Visualization:"
   ]
  },
  {
   "cell_type": "markdown",
   "id": "7ab7d451",
   "metadata": {},
   "source": [
    "1. Maximum rating of Products"
   ]
  },
  {
   "cell_type": "code",
   "execution_count": 66,
   "id": "1e2cfd2d",
   "metadata": {
    "scrolled": false
   },
   "outputs": [
    {
     "name": "stderr",
     "output_type": "stream",
     "text": [
      "C:\\Python310\\lib\\site-packages\\seaborn\\_decorators.py:36: FutureWarning: Pass the following variable as a keyword arg: x. From version 0.12, the only valid positional argument will be `data`, and passing other arguments without an explicit keyword will result in an error or misinterpretation.\n",
      "  warnings.warn(\n"
     ]
    },
    {
     "data": {
      "text/plain": [
       "<AxesSubplot:xlabel='Rating', ylabel='count'>"
      ]
     },
     "execution_count": 66,
     "metadata": {},
     "output_type": "execute_result"
    },
    {
     "data": {
      "image/png": "[encoded data removed]",
      "text/plain": [
       "<Figure size 1440x504 with 1 Axes>"
      ]
     },
     "metadata": {
      "needs_background": "light"
     },
     "output_type": "display_data"
    }
   ],
   "source": [
    "plt.figure(figsize=(20,7))\n",
    "sns.countplot(df['Rating'])"
   ]
  },
  {
   "cell_type": "code",
   "execution_count": 58,
   "id": "ea597684",
   "metadata": {},
   "outputs": [
    {
     "data": {
      "text/plain": [
       "5.0    134\n",
       "3.9    131\n",
       "3.3     68\n",
       "4.2     65\n",
       "4.0     57\n",
       "3.7     52\n",
       "3.4     36\n",
       "4.1     34\n",
       "4.3     33\n",
       "3.6     32\n",
       "2.7     24\n",
       "3.5     22\n",
       "3.8     21\n",
       "3.2     20\n",
       "4.5     14\n",
       "3.0     10\n",
       "3.1      9\n",
       "1.0      8\n",
       "4.4      6\n",
       "2.9      4\n",
       "4.7      4\n",
       "4.6      2\n",
       "4.8      1\n",
       "2.0      1\n",
       "2.3      1\n",
       "Name: Rating, dtype: int64"
      ]
     },
     "execution_count": 58,
     "metadata": {},
     "output_type": "execute_result"
    }
   ],
   "source": [
    "df['Rating'].value_counts()"
   ]
  },
  {
   "cell_type": "markdown",
   "id": "089c9ba9",
   "metadata": {},
   "source": [
    "Most of the products have 5 rating."
   ]
  },
  {
   "cell_type": "markdown",
   "id": "43f21cfb",
   "metadata": {},
   "source": [
    "2. For each Product Name, the maximum Price"
   ]
  },
  {
   "cell_type": "code",
   "execution_count": 67,
   "id": "03bf33ad",
   "metadata": {},
   "outputs": [
    {
     "data": {
      "text/html": [
       "<div>\n",
       "<style scoped>\n",
       "    .dataframe tbody tr th:only-of-type {\n",
       "        vertical-align: middle;\n",
       "    }\n",
       "\n",
       "    .dataframe tbody tr th {\n",
       "        vertical-align: top;\n",
       "    }\n",
       "\n",
       "    .dataframe thead th {\n",
       "        text-align: right;\n",
       "    }\n",
       "</style>\n",
       "<table border=\"1\" class=\"dataframe\">\n",
       "  <thead>\n",
       "    <tr style=\"text-align: right;\">\n",
       "      <th></th>\n",
       "      <th>Name</th>\n",
       "      <th>Price</th>\n",
       "    </tr>\n",
       "  </thead>\n",
       "  <tbody>\n",
       "    <tr>\n",
       "      <th>0</th>\n",
       "      <td>(3323DnmCrossBtnDrs Women's Denim Dress with V...</td>\n",
       "      <td>684</td>\n",
       "    </tr>\n",
       "    <tr>\n",
       "      <th>1</th>\n",
       "      <td>Aika Women's Georgette Embroidered Dress Lara ...</td>\n",
       "      <td>499</td>\n",
       "    </tr>\n",
       "    <tr>\n",
       "      <th>2</th>\n",
       "      <td>Boho African Headbands Yoga Wide Knot Hair Ban...</td>\n",
       "      <td>1829</td>\n",
       "    </tr>\n",
       "    <tr>\n",
       "      <th>3</th>\n",
       "      <td>Bra Converting Clips, clear, 2 pcs</td>\n",
       "      <td>1682</td>\n",
       "    </tr>\n",
       "    <tr>\n",
       "      <th>4</th>\n",
       "      <td>Casual Bodycon Black Dress for Women</td>\n",
       "      <td>375</td>\n",
       "    </tr>\n",
       "    <tr>\n",
       "      <th>...</th>\n",
       "      <td>...</td>\n",
       "      <td>...</td>\n",
       "    </tr>\n",
       "    <tr>\n",
       "      <th>252</th>\n",
       "      <td>Women’s Empire Maxi Dress(Lucy-422-425-426-428)</td>\n",
       "      <td>259</td>\n",
       "    </tr>\n",
       "    <tr>\n",
       "      <th>253</th>\n",
       "      <td>Women’s Empire Maxi Dress(Lucy-542-549)</td>\n",
       "      <td>259</td>\n",
       "    </tr>\n",
       "    <tr>\n",
       "      <th>254</th>\n",
       "      <td>Women’s High-Low Knee Length Dress(Ruby-026-02...</td>\n",
       "      <td>449</td>\n",
       "    </tr>\n",
       "    <tr>\n",
       "      <th>255</th>\n",
       "      <td>d50</td>\n",
       "      <td>508</td>\n",
       "    </tr>\n",
       "    <tr>\n",
       "      <th>256</th>\n",
       "      <td>dharti Enterprise Women’s Empire Maxi Dress</td>\n",
       "      <td>799</td>\n",
       "    </tr>\n",
       "  </tbody>\n",
       "</table>\n",
       "<p>257 rows × 2 columns</p>\n",
       "</div>"
      ],
      "text/plain": [
       "                                                  Name  Price\n",
       "0    (3323DnmCrossBtnDrs Women's Denim Dress with V...    684\n",
       "1    Aika Women's Georgette Embroidered Dress Lara ...    499\n",
       "2    Boho African Headbands Yoga Wide Knot Hair Ban...   1829\n",
       "3                   Bra Converting Clips, clear, 2 pcs   1682\n",
       "4                 Casual Bodycon Black Dress for Women    375\n",
       "..                                                 ...    ...\n",
       "252    Women’s Empire Maxi Dress(Lucy-422-425-426-428)    259\n",
       "253            Women’s Empire Maxi Dress(Lucy-542-549)    259\n",
       "254  Women’s High-Low Knee Length Dress(Ruby-026-02...    449\n",
       "255                                                d50    508\n",
       "256        dharti Enterprise Women’s Empire Maxi Dress    799\n",
       "\n",
       "[257 rows x 2 columns]"
      ]
     },
     "execution_count": 67,
     "metadata": {},
     "output_type": "execute_result"
    }
   ],
   "source": [
    "a = df.groupby('Name')['Price'].max().to_frame().reset_index()\n",
    "a"
   ]
  }
 ],
 "metadata": {
  "kernelspec": {
   "display_name": "Python 3 (ipykernel)",
   "language": "python",
   "name": "python3"
  },
  "language_info": {
   "codemirror_mode": {
    "name": "ipython",
    "version": 3
   },
   "file_extension": ".py",
   "mimetype": "text/x-python",
   "name": "python",
   "nbconvert_exporter": "python",
   "pygments_lexer": "ipython3",
   "version": "3.10.1"
  }
 },
 "nbformat": 4,
 "nbformat_minor": 5
}
